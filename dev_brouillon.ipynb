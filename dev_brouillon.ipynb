{
 "cells": [
  {
   "cell_type": "code",
   "execution_count": 1,
   "metadata": {},
   "outputs": [],
   "source": [
    "import pandas as pd"
   ]
  },
  {
   "cell_type": "code",
   "execution_count": 3,
   "metadata": {},
   "outputs": [],
   "source": [
    "df_info = pd.read_excel(\"src\\AGL_Mapping_farms-2024-09-05_14-38-26.xlsx\")"
   ]
  },
  {
   "cell_type": "code",
   "execution_count": 15,
   "metadata": {},
   "outputs": [
    {
     "data": {
      "text/plain": [
       "farmid                       int64\n",
       "farmname                    object\n",
       "address                     object\n",
       "zipcode                      int64\n",
       "city                        object\n",
       "status                        bool\n",
       "email.pdf.recipientList     object\n",
       "field.nb                   float64\n",
       "dtype: object"
      ]
     },
     "execution_count": 15,
     "metadata": {},
     "output_type": "execute_result"
    }
   ],
   "source": [
    "df_info.dtypes"
   ]
  },
  {
   "cell_type": "code",
   "execution_count": 20,
   "metadata": {},
   "outputs": [],
   "source": [
    "def made_tuple(row):\n",
    "    return (row[\"farmname\"] + \".pdf\", row[\"farmname\"], \";\".join(str(row[\"email.pdf.recipientList\"]).split(\"\\n\")))"
   ]
  },
  {
   "cell_type": "code",
   "execution_count": 21,
   "metadata": {},
   "outputs": [],
   "source": [
    "df_info[\"tuple\"] = df_info.apply(made_tuple, axis=1)"
   ]
  },
  {
   "cell_type": "code",
   "execution_count": 24,
   "metadata": {},
   "outputs": [
    {
     "data": {
      "text/plain": [
       "('CAPRIJOUR (GAEC).pdf',\n",
       " 'CAPRIJOUR (GAEC)',\n",
       " 'gaec.caprijour@orange.fr; jm.balle@agrial.com; y.tissier@agrial.com')"
      ]
     },
     "execution_count": 24,
     "metadata": {},
     "output_type": "execute_result"
    }
   ],
   "source": [
    "df_info[\"tuple\"][3]"
   ]
  },
  {
   "cell_type": "code",
   "execution_count": 25,
   "metadata": {},
   "outputs": [],
   "source": [
    " # Put the tuples into a dictionary\n",
    "pdf_dict = dict(zip(df_info[\"farmname\"], df_info[\"tuple\"]))"
   ]
  },
  {
   "cell_type": "code",
   "execution_count": 28,
   "metadata": {},
   "outputs": [
    {
     "data": {
      "text/plain": [
       "('AUSSANT THIERRY (EARL).pdf',\n",
       " 'AUSSANT THIERRY (EARL)',\n",
       " 'thierry.aussant@orange.fr; y.moulin@agrial.com')"
      ]
     },
     "execution_count": 28,
     "metadata": {},
     "output_type": "execute_result"
    }
   ],
   "source": [
    "pdf_dict[\"AUSSANT THIERRY (EARL)\"]"
   ]
  },
  {
   "cell_type": "code",
   "execution_count": 38,
   "metadata": {},
   "outputs": [
    {
     "data": {
      "text/plain": [
       "Point(x=719, y=877)"
      ]
     },
     "execution_count": 38,
     "metadata": {},
     "output_type": "execute_result"
    }
   ],
   "source": [
    "import pyautogui\n",
    "\n",
    "pyautogui.position()"
   ]
  },
  {
   "cell_type": "code",
   "execution_count": 31,
   "metadata": {},
   "outputs": [],
   "source": [
    "pyautogui.click(x=258, y=337)"
   ]
  }
 ],
 "metadata": {
  "kernelspec": {
   "display_name": "ftp_mail",
   "language": "python",
   "name": "python3"
  },
  "language_info": {
   "codemirror_mode": {
    "name": "ipython",
    "version": 3
   },
   "file_extension": ".py",
   "mimetype": "text/x-python",
   "name": "python",
   "nbconvert_exporter": "python",
   "pygments_lexer": "ipython3",
   "version": "3.10.14"
  }
 },
 "nbformat": 4,
 "nbformat_minor": 2
}
