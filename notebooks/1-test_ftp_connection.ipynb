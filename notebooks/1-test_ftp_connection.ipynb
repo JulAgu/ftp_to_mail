{
 "cells": [
  {
   "cell_type": "code",
   "execution_count": 3,
   "metadata": {},
   "outputs": [],
   "source": [
    "import pysftp\n",
    "from urllib.parse import urlparse\n",
    "import os"
   ]
  },
  {
   "cell_type": "code",
   "execution_count": 5,
   "metadata": {},
   "outputs": [],
   "source": [
    "class Sftp:\n",
    "    def __init__(self, hostname, username, password, port=22):\n",
    "        self.connection = None\n",
    "        self.hostname = hostname\n",
    "        self.username = username\n",
    "        self.password = password\n",
    "        self.port = port\n",
    "        self.cnopts = pysftp.CnOpts(knownhosts=\"C:/Users/JUAGUDELO/.ssh/known_hosts\")\n",
    "    def connect(self):\n",
    "        \"\"\"\n",
    "        Connects to the sftp server and returns the sftp connection object\n",
    "        \"\"\"\n",
    "        try:\n",
    "            # Get the sftp connection object\n",
    "            self.connection = pysftp.Connection(\n",
    "                host=self.hostname,\n",
    "                username=self.username,\n",
    "                password=self.password,\n",
    "                port=self.port,\n",
    "                cnopts=self.cnopts,\n",
    "            )\n",
    "        except Exception as err:\n",
    "            raise Exception(err)\n",
    "        finally:\n",
    "            print(f\"Connected to {self.hostname} as {self.username}.\")\n",
    "\n",
    "    def disconnect(self):\n",
    "        \"\"\"Closes the sftp connection\"\"\"\n",
    "        self.connection.close()\n",
    "        print(f\"Disconnected from host {self.hostname}\")\n",
    "\n",
    "    def listdir(self, remote_path):\n",
    "        \"\"\"lists all the files and directories in the specified path and returns them\"\"\"\n",
    "        for obj in self.connection.listdir(remote_path):\n",
    "            yield obj\n",
    "\n",
    "    def listdir_attr(self, remote_path):\n",
    "        \"\"\"lists all the files and directories (with their attributes) in the specified path and returns them\"\"\"\n",
    "        for attr in self.connection.listdir_attr(remote_path):\n",
    "            yield attr\n",
    "\n",
    "    def download(self, remote_path, target_local_path):\n",
    "        \"\"\"\n",
    "        Downloads the file from remote sftp server to local.\n",
    "        Also, by default extracts the file to the specified target_local_path\n",
    "        \"\"\"\n",
    "\n",
    "        try:\n",
    "            print(\n",
    "                f\"downloading from {self.hostname} as {self.username} [(remote path : {remote_path});(local path: {target_local_path})]\"\n",
    "            )\n",
    "\n",
    "            # Create the target directory if it does not exist\n",
    "            path, _ = os.path.split(target_local_path)\n",
    "            if not os.path.isdir(path):\n",
    "                try:\n",
    "                    os.makedirs(path)\n",
    "                except Exception as err:\n",
    "                    raise Exception(err)\n",
    "\n",
    "            # Download from remote sftp server to local\n",
    "            self.connection.get(remote_path, target_local_path)\n",
    "            print(\"download completed\")\n",
    "\n",
    "        except Exception as err:\n",
    "            raise Exception(err)"
   ]
  },
  {
   "cell_type": "code",
   "execution_count": 6,
   "metadata": {},
   "outputs": [],
   "source": [
    "import yaml\n",
    "with open(\"../credentials.yaml\", \"r\") as file:\n",
    "    credentials = yaml.safe_load(file)\n",
    "\n",
    "sftp = Sftp(hostname = credentials[\"hostname\"],\n",
    "            username = credentials[\"username\"],\n",
    "            password = credentials[\"password\"],)"
   ]
  },
  {
   "cell_type": "code",
   "execution_count": 7,
   "metadata": {},
   "outputs": [
    {
     "name": "stdout",
     "output_type": "stream",
     "text": [
      "Connected to sftp-limagrain.northeurope.cloudapp.azure.com as SRV-SFTP-AGRIAL.\n"
     ]
    },
    {
     "ename": "Exception",
     "evalue": "No hostkey for host sftp-limagrain.northeurope.cloudapp.azure.com found.",
     "output_type": "error",
     "traceback": [
      "\u001b[1;31m---------------------------------------------------------------------------\u001b[0m",
      "\u001b[1;31mSSHException\u001b[0m                              Traceback (most recent call last)",
      "Cell \u001b[1;32mIn[5], line 15\u001b[0m, in \u001b[0;36mSftp.connect\u001b[1;34m(self)\u001b[0m\n\u001b[0;32m     13\u001b[0m \u001b[38;5;28;01mtry\u001b[39;00m:\n\u001b[0;32m     14\u001b[0m     \u001b[38;5;66;03m# Get the sftp connection object\u001b[39;00m\n\u001b[1;32m---> 15\u001b[0m     \u001b[38;5;28mself\u001b[39m\u001b[38;5;241m.\u001b[39mconnection \u001b[38;5;241m=\u001b[39m \u001b[43mpysftp\u001b[49m\u001b[38;5;241;43m.\u001b[39;49m\u001b[43mConnection\u001b[49m\u001b[43m(\u001b[49m\n\u001b[0;32m     16\u001b[0m \u001b[43m        \u001b[49m\u001b[43mhost\u001b[49m\u001b[38;5;241;43m=\u001b[39;49m\u001b[38;5;28;43mself\u001b[39;49m\u001b[38;5;241;43m.\u001b[39;49m\u001b[43mhostname\u001b[49m\u001b[43m,\u001b[49m\n\u001b[0;32m     17\u001b[0m \u001b[43m        \u001b[49m\u001b[43musername\u001b[49m\u001b[38;5;241;43m=\u001b[39;49m\u001b[38;5;28;43mself\u001b[39;49m\u001b[38;5;241;43m.\u001b[39;49m\u001b[43musername\u001b[49m\u001b[43m,\u001b[49m\n\u001b[0;32m     18\u001b[0m \u001b[43m        \u001b[49m\u001b[43mpassword\u001b[49m\u001b[38;5;241;43m=\u001b[39;49m\u001b[38;5;28;43mself\u001b[39;49m\u001b[38;5;241;43m.\u001b[39;49m\u001b[43mpassword\u001b[49m\u001b[43m,\u001b[49m\n\u001b[0;32m     19\u001b[0m \u001b[43m        \u001b[49m\u001b[43mport\u001b[49m\u001b[38;5;241;43m=\u001b[39;49m\u001b[38;5;28;43mself\u001b[39;49m\u001b[38;5;241;43m.\u001b[39;49m\u001b[43mport\u001b[49m\u001b[43m,\u001b[49m\n\u001b[0;32m     20\u001b[0m \u001b[43m        \u001b[49m\u001b[43mcnopts\u001b[49m\u001b[38;5;241;43m=\u001b[39;49m\u001b[38;5;28;43mself\u001b[39;49m\u001b[38;5;241;43m.\u001b[39;49m\u001b[43mcnopts\u001b[49m\u001b[43m,\u001b[49m\n\u001b[0;32m     21\u001b[0m \u001b[43m    \u001b[49m\u001b[43m)\u001b[49m\n\u001b[0;32m     22\u001b[0m \u001b[38;5;28;01mexcept\u001b[39;00m \u001b[38;5;167;01mException\u001b[39;00m \u001b[38;5;28;01mas\u001b[39;00m err:\n",
      "File \u001b[1;32mc:\\Users\\JUAGUDELO\\AppData\\Local\\miniconda3\\envs\\ftp_mail\\lib\\site-packages\\pysftp\\__init__.py:132\u001b[0m, in \u001b[0;36mConnection.__init__\u001b[1;34m(self, host, username, private_key, password, port, private_key_pass, ciphers, log, cnopts, default_path)\u001b[0m\n\u001b[0;32m    131\u001b[0m \u001b[38;5;28;01mif\u001b[39;00m \u001b[38;5;28mself\u001b[39m\u001b[38;5;241m.\u001b[39m_cnopts\u001b[38;5;241m.\u001b[39mhostkeys \u001b[38;5;129;01mis\u001b[39;00m \u001b[38;5;129;01mnot\u001b[39;00m \u001b[38;5;28;01mNone\u001b[39;00m:\n\u001b[1;32m--> 132\u001b[0m     \u001b[38;5;28mself\u001b[39m\u001b[38;5;241m.\u001b[39m_tconnect[\u001b[38;5;124m'\u001b[39m\u001b[38;5;124mhostkey\u001b[39m\u001b[38;5;124m'\u001b[39m] \u001b[38;5;241m=\u001b[39m \u001b[38;5;28;43mself\u001b[39;49m\u001b[38;5;241;43m.\u001b[39;49m\u001b[43m_cnopts\u001b[49m\u001b[38;5;241;43m.\u001b[39;49m\u001b[43mget_hostkey\u001b[49m\u001b[43m(\u001b[49m\u001b[43mhost\u001b[49m\u001b[43m)\u001b[49m\n\u001b[0;32m    134\u001b[0m \u001b[38;5;28mself\u001b[39m\u001b[38;5;241m.\u001b[39m_sftp_live \u001b[38;5;241m=\u001b[39m \u001b[38;5;28;01mFalse\u001b[39;00m\n",
      "File \u001b[1;32mc:\\Users\\JUAGUDELO\\AppData\\Local\\miniconda3\\envs\\ftp_mail\\lib\\site-packages\\pysftp\\__init__.py:71\u001b[0m, in \u001b[0;36mCnOpts.get_hostkey\u001b[1;34m(self, host)\u001b[0m\n\u001b[0;32m     70\u001b[0m \u001b[38;5;28;01mif\u001b[39;00m kval \u001b[38;5;129;01mis\u001b[39;00m \u001b[38;5;28;01mNone\u001b[39;00m:\n\u001b[1;32m---> 71\u001b[0m     \u001b[38;5;28;01mraise\u001b[39;00m SSHException(\u001b[38;5;124m\"\u001b[39m\u001b[38;5;124mNo hostkey for host \u001b[39m\u001b[38;5;132;01m%s\u001b[39;00m\u001b[38;5;124m found.\u001b[39m\u001b[38;5;124m\"\u001b[39m \u001b[38;5;241m%\u001b[39m host)\n\u001b[0;32m     72\u001b[0m \u001b[38;5;66;03m# return the pkey from the dict\u001b[39;00m\n",
      "\u001b[1;31mSSHException\u001b[0m: No hostkey for host sftp-limagrain.northeurope.cloudapp.azure.com found.",
      "\nDuring handling of the above exception, another exception occurred:\n",
      "\u001b[1;31mException\u001b[0m                                 Traceback (most recent call last)",
      "Cell \u001b[1;32mIn[7], line 1\u001b[0m\n\u001b[1;32m----> 1\u001b[0m \u001b[43msftp\u001b[49m\u001b[38;5;241;43m.\u001b[39;49m\u001b[43mconnect\u001b[49m\u001b[43m(\u001b[49m\u001b[43m)\u001b[49m\n\u001b[0;32m      2\u001b[0m sftp\u001b[38;5;241m.\u001b[39mdisconnect()\n",
      "Cell \u001b[1;32mIn[5], line 23\u001b[0m, in \u001b[0;36mSftp.connect\u001b[1;34m(self)\u001b[0m\n\u001b[0;32m     15\u001b[0m     \u001b[38;5;28mself\u001b[39m\u001b[38;5;241m.\u001b[39mconnection \u001b[38;5;241m=\u001b[39m pysftp\u001b[38;5;241m.\u001b[39mConnection(\n\u001b[0;32m     16\u001b[0m         host\u001b[38;5;241m=\u001b[39m\u001b[38;5;28mself\u001b[39m\u001b[38;5;241m.\u001b[39mhostname,\n\u001b[0;32m     17\u001b[0m         username\u001b[38;5;241m=\u001b[39m\u001b[38;5;28mself\u001b[39m\u001b[38;5;241m.\u001b[39musername,\n\u001b[1;32m   (...)\u001b[0m\n\u001b[0;32m     20\u001b[0m         cnopts\u001b[38;5;241m=\u001b[39m\u001b[38;5;28mself\u001b[39m\u001b[38;5;241m.\u001b[39mcnopts,\n\u001b[0;32m     21\u001b[0m     )\n\u001b[0;32m     22\u001b[0m \u001b[38;5;28;01mexcept\u001b[39;00m \u001b[38;5;167;01mException\u001b[39;00m \u001b[38;5;28;01mas\u001b[39;00m err:\n\u001b[1;32m---> 23\u001b[0m     \u001b[38;5;28;01mraise\u001b[39;00m \u001b[38;5;167;01mException\u001b[39;00m(err)\n\u001b[0;32m     24\u001b[0m \u001b[38;5;28;01mfinally\u001b[39;00m:\n\u001b[0;32m     25\u001b[0m     \u001b[38;5;28mprint\u001b[39m(\u001b[38;5;124mf\u001b[39m\u001b[38;5;124m\"\u001b[39m\u001b[38;5;124mConnected to \u001b[39m\u001b[38;5;132;01m{\u001b[39;00m\u001b[38;5;28mself\u001b[39m\u001b[38;5;241m.\u001b[39mhostname\u001b[38;5;132;01m}\u001b[39;00m\u001b[38;5;124m as \u001b[39m\u001b[38;5;132;01m{\u001b[39;00m\u001b[38;5;28mself\u001b[39m\u001b[38;5;241m.\u001b[39musername\u001b[38;5;132;01m}\u001b[39;00m\u001b[38;5;124m.\u001b[39m\u001b[38;5;124m\"\u001b[39m)\n",
      "\u001b[1;31mException\u001b[0m: No hostkey for host sftp-limagrain.northeurope.cloudapp.azure.com found."
     ]
    }
   ],
   "source": [
    "sftp.connect()\n",
    "sftp.disconnect()\n"
   ]
  }
 ],
 "metadata": {
  "kernelspec": {
   "display_name": "ftp_mail",
   "language": "python",
   "name": "python3"
  },
  "language_info": {
   "codemirror_mode": {
    "name": "ipython",
    "version": 3
   },
   "file_extension": ".py",
   "mimetype": "text/x-python",
   "name": "python",
   "nbconvert_exporter": "python",
   "pygments_lexer": "ipython3",
   "version": "3.10.14"
  }
 },
 "nbformat": 4,
 "nbformat_minor": 2
}
