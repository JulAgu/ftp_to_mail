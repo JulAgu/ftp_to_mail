{
 "cells": [
  {
   "cell_type": "code",
   "execution_count": 24,
   "metadata": {},
   "outputs": [],
   "source": [
    "import pysftp\n",
    "from urllib.parse import urlparse\n",
    "import os"
   ]
  },
  {
   "cell_type": "code",
   "execution_count": 25,
   "metadata": {},
   "outputs": [],
   "source": [
    "class Sftp:\n",
    "    def __init__(self, hostname, username, password, port=22):\n",
    "        self.connection = None\n",
    "        self.hostname = hostname\n",
    "        self.username = username\n",
    "        self.password = password\n",
    "        self.port = port\n",
    "        self.cnopts = pysftp.CnOpts(knownhosts=\"C:/Users/JUAGUDELO/.ssh/known_hosts\")\n",
    "    def connect(self):\n",
    "        \"\"\"\n",
    "        Connects to the sftp server and returns the sftp connection object\n",
    "        \"\"\"\n",
    "        try:\n",
    "            # Get the sftp connection object\n",
    "            self.connection = pysftp.Connection(\n",
    "                host=self.hostname,\n",
    "                username=self.username,\n",
    "                password=self.password,\n",
    "                port=self.port,\n",
    "                cnopts=self.cnopts,\n",
    "            )\n",
    "        except Exception as err:\n",
    "            raise Exception(err)\n",
    "        finally:\n",
    "            print(f\"Connected to {self.hostname} as {self.username}.\")\n",
    "\n",
    "    def disconnect(self):\n",
    "        \"\"\"Closes the sftp connection\"\"\"\n",
    "        self.connection.close()\n",
    "        print(f\"Disconnected from host {self.hostname}\")\n",
    "\n",
    "    def listdir(self, remote_path):\n",
    "        \"\"\"lists all the files and directories in the specified path and returns them\"\"\"\n",
    "        for obj in self.connection.listdir(remote_path):\n",
    "            return obj\n",
    "\n",
    "    def listdir_attr(self, remote_path):\n",
    "        \"\"\"lists all the files and directories (with their attributes) in the specified path and returns them\"\"\"\n",
    "        for attr in self.connection.listdir_attr(remote_path):\n",
    "            yield attr\n",
    "\n",
    "    def download(self, remote_path, target_local_path):\n",
    "        \"\"\"\n",
    "        Downloads the file from remote sftp server to local.\n",
    "        Also, by default extracts the file to the specified target_local_path\n",
    "        \"\"\"\n",
    "\n",
    "        try:\n",
    "            print(\n",
    "                f\"downloading from {self.hostname} as {self.username} [(remote path : {remote_path});(local path: {target_local_path})]\"\n",
    "            )\n",
    "\n",
    "            # Create the target directory if it does not exist\n",
    "            path, _ = os.path.split(target_local_path)\n",
    "            if not os.path.isdir(path):\n",
    "                try:\n",
    "                    os.makedirs(path)\n",
    "                except Exception as err:\n",
    "                    raise Exception(err)\n",
    "\n",
    "            # Download from remote sftp server to local\n",
    "            self.connection.get(remote_path, target_local_path)\n",
    "            print(\"download completed\")\n",
    "\n",
    "        except Exception as err:\n",
    "            raise Exception(err)"
   ]
  },
  {
   "cell_type": "code",
   "execution_count": 26,
   "metadata": {},
   "outputs": [],
   "source": [
    "import yaml\n",
    "with open(\"../credentials.yaml\", \"r\") as file:\n",
    "    credentials = yaml.safe_load(file)\n",
    "\n",
    "sftp = Sftp(hostname = credentials[\"hostname\"],\n",
    "            username = credentials[\"username\"],\n",
    "            password = credentials[\"password\"],)"
   ]
  },
  {
   "cell_type": "code",
   "execution_count": 27,
   "metadata": {},
   "outputs": [
    {
     "name": "stdout",
     "output_type": "stream",
     "text": [
      "Connected to sftp-limagrain.northeurope.cloudapp.azure.com as SRV-SFTP-AGRIAL.\n"
     ]
    }
   ],
   "source": [
    "sftp.connect()"
   ]
  },
  {
   "cell_type": "code",
   "execution_count": 28,
   "metadata": {},
   "outputs": [
    {
     "name": "stdout",
     "output_type": "stream",
     "text": [
      "AGL_Mapping_farms-2024-09-05_14-38-26.xlsx\n"
     ]
    }
   ],
   "source": [
    "list_docs = sftp.listdir(credentials[\"remote_path\"])\n",
    "print(list_docs)"
   ]
  },
  {
   "cell_type": "code",
   "execution_count": 29,
   "metadata": {},
   "outputs": [
    {
     "name": "stdout",
     "output_type": "stream",
     "text": [
      "Disconnected from host sftp-limagrain.northeurope.cloudapp.azure.com\n"
     ]
    }
   ],
   "source": [
    "sftp.disconnect()"
   ]
  }
 ],
 "metadata": {
  "kernelspec": {
   "display_name": "ftp_mail",
   "language": "python",
   "name": "python3"
  },
  "language_info": {
   "codemirror_mode": {
    "name": "ipython",
    "version": 3
   },
   "file_extension": ".py",
   "mimetype": "text/x-python",
   "name": "python",
   "nbconvert_exporter": "python",
   "pygments_lexer": "ipython3",
   "version": "3.10.14"
  }
 },
 "nbformat": 4,
 "nbformat_minor": 2
}
